{
 "cells": [
  {
   "cell_type": "markdown",
   "id": "gorgeous-indiana",
   "metadata": {},
   "source": [
    "# Demonstration of EM-VAMP with adaptive shrinkage (ash) prior\n",
    "\n",
    "- toc: true\n",
    "- badges: true\n",
    "- comments: true\n",
    "- categories: [em-vamp, ash, self-study]\n",
    "- slug: em-vamp-ash-demo"
   ]
  },
  {
   "cell_type": "markdown",
   "id": "professional-silly",
   "metadata": {},
   "source": [
    "### About\n",
    "\n",
    "In this demo, I illustrate how to use the [vampyre](https://github.com/GAMPTeam/vampyre) package for sparse multiple linear regression. We consider a simple linear model,\n",
    "\n",
    "$\\mathbf{y} = \\mathbf{X}\\mathbf{b} + \\mathbf{w}$,\n",
    "\n",
    "$\\mathbf{w} \\sim \\mathcal{N}\\left(\\mathbf{0} \\mid \\sigma^2 I_n \\right)$,\n",
    "\n",
    "$\\mathbf{b} \\sim p\\left(\\mathbf{b} \\mid \\boldsymbol{\\theta}_1\\right)$.\n",
    "\n",
    "Here $\\mathbf{y}$ is a vector of length $n$, $\\mathbf{X}$ is a matrix of size $n \\times p$ and $\\mathbf{b}$ is a vector of length $p$. \n",
    "The goal is to estimate the posterior $p\\left(\\mathbf{b} \\mid \\mathbf{y}\\right)$. \n",
    "Generally, the priors $\\boldsymbol{\\theta}_1$ and $\\sigma$ are also unknown and need to be estimated.\n",
    "The VAMP ([Vector Approximate Message Passing](https://ieeexplore.ieee.org/document/8713501)) algorithm estimates the posterior when the priors are known.\n",
    "The EM-VAMP algorithm proposed by [Fletcher and Schniter, 2017](https://ieeexplore.ieee.org/document/7952957) combines VAMP and Expectation Maximization to estimate both the prior and the posterior. The EM-VAMP algorithm, among others, is implemented in [vampyre](https://github.com/GAMPTeam/vampyre).\n",
    "\n",
    "In this example, I will use two different class of priors for the regression:\n",
    "1. **Spike-and-slab**. $p\\left(b_i \\mid \\boldsymbol{\\theta}_1\\right) = (1 - \\pi) \\delta(b_i) + \\pi \\mathcal{N}\\left(b_i \\mid \\mu_b, \\sigma_b\\right)$\n",
    "2. **ash**. $p\\left(b_i \\mid \\boldsymbol{\\theta}_1\\right) = \\sum_{k=1}^{K} \\pi_k \\mathcal{N}\\left(b_i \\mid \\mu_k, \\sigma_k\\right)$ with a constraint $\\sum_{k=1}^{K} \\pi_k = 1$. We will assume $(\\mu_k, \\sigma_k)$ is known for all $k$, and will estimate the $\\pi_k$ from the data."
   ]
  },
  {
   "cell_type": "markdown",
   "id": "compatible-intent",
   "metadata": {},
   "source": [
    "### Importing packages\n",
    "\n",
    "First, we need to import the `vampyre` package. [PyMir](https://github.com/banskt/pymir) is a personal Python package where I keep some helper functions of matplotlib for using across all projects. This can be skipped and all instances of `pymir` can be commented out to use the default settings of `matplotlib`."
   ]
  },
  {
   "cell_type": "code",
   "execution_count": 1,
   "id": "architectural-compiler",
   "metadata": {},
   "outputs": [],
   "source": [
    "%load_ext autoreload\n",
    "%autoreload 2\n",
    "\n",
    "import numpy as np\n",
    "import os\n",
    "import vampyre\n",
    "import matplotlib.pyplot as plt\n",
    "from pymir import mpl_stylesheet\n",
    "from pymir import mpl_utils"
   ]
  },
  {
   "cell_type": "markdown",
   "id": "selected-skirt",
   "metadata": {},
   "source": [
    "### Generating synthetic data\n",
    "\n",
    "We generate sparse synthetic data for analyzing the regresison methods."
   ]
  },
  {
   "cell_type": "code",
   "execution_count": 2,
   "id": "headed-ribbon",
   "metadata": {},
   "outputs": [
    {
     "name": "stdout",
     "output_type": "stream",
     "text": [
      "Data generated with n = 100, p = 200, s = 10, pve = 0.5, rho = 0.\n",
      "Calculated input sigma = 3.042\n"
     ]
    }
   ],
   "source": [
    "def simulate (n, p, s, pve = 0.5, rho = 0, seed = None):\n",
    "    ''' \n",
    "    X is sampled from a multivariate normal, with covariance matrix S.\n",
    "    S has unit diagonal entries and constant off-diagonal entries rho.\n",
    "    Inputs:\n",
    "        n = number of samples\n",
    "        p = number of predictors\n",
    "        s = number of non-zero predictors\n",
    "        pve = proportion of variance in y explained by Xb\n",
    "        rho = correlation in the off-diagonal entries of X\n",
    "        seed\n",
    "    Outputs:\n",
    "        X     = matrix of predictors (size n x p)\n",
    "        y     = vector of responses (size n)\n",
    "        Xtest, ytest = holdout test set\n",
    "        beta  = coefficientss\n",
    "        se    = sigma (standard deviation of w in the model)\n",
    "    '''\n",
    "    iidX       = np.random.normal(size = n * 2 * p).reshape(n * 2, p)\n",
    "    comR       = np.random.normal(size = n * 2).reshape(n * 2, 1)\n",
    "    Xall       = comR * np.sqrt(rho) + iidX * np.sqrt(1 - rho)\n",
    "    # split into training and test data\n",
    "    X          = Xall[:n, :]\n",
    "    Xtest      = Xall[n:, :]\n",
    "    # sample betas\n",
    "    bidx       = np.random.choice(p, s, replace = False)\n",
    "    beta       = np.zeros(p)\n",
    "    beta[bidx] = np.random.normal(size = s)\n",
    "    # obtain sd from pve\n",
    "    se         = np.sqrt(np.var(np.dot(X, beta)) * (1 - pve) / pve)\n",
    "    # calculate the responses\n",
    "    y          = np.dot(X,     beta) + se * np.random.normal(size = n)\n",
    "    ytest      = np.dot(Xtest, beta) + se * np.random.normal(size = n)\n",
    "    return X, y, Xtest, ytest, beta, se\n",
    "\n",
    "# Simulation parameters\n",
    "n = 100\n",
    "p = 200\n",
    "s = 10\n",
    "pve = 0.5\n",
    "rho = 0\n",
    "X, y, Xtest, ytest, beta, se = simulate(n, p, s, pve = pve, rho = rho)\n",
    "\n",
    "print (f\"Data generated with n = {n}, p = {p}, s = {s}, pve = {pve}, rho = {rho}.\")\n",
    "print (f\"Calculated input sigma = {se:.3f}\")"
   ]
  },
  {
   "cell_type": "markdown",
   "id": "nutritional-tackle",
   "metadata": {},
   "source": [
    "### Set up the EM-VAMP solver\n",
    "\n",
    "The EM-VAMP estimator requires that we specify two probability distributions:\n",
    " - **Prior**:  $p\\left(\\mathbf{b} \\mid \\boldsymbol{\\theta}_1\\right)$;\n",
    " - **Likelihood**: $p\\left(\\mathbf{y} \\mid \\mathbf{b}, \\sigma\\right) = \\mathcal{N}\\left(\\mathbf{y} \\mid \\mathbf{X}\\mathbf{b}, \\sigma^2 I_n\\right)$\n",
    "\n",
    "Both the `spike-and-slab` and `ash` prior can be represented by Gaussian mixtures. Hence I will set up EM-VAMP with GMM estimators (note that some other estimators are also implemented in `vampyre`). The parameters $\\mathbf{\\theta}_1$ will be represented by the components (`probc`, `meanc`, `varc`), respectively the proportion, mean and variance of each Gaussian component in the mixture. For the likelihood, the unknown parameter $\\sigma^2$ is the output variance `wvar`.\n",
    "\n",
    "EM-VAMP estimation allows to learn the values of the parameters $\\theta_1$ and $\\sigma^2$ while also estimating the posterior expectation of the vector $\\mathbf{b}$."
   ]
  },
  {
   "cell_type": "code",
   "execution_count": 3,
   "id": "billion-three",
   "metadata": {},
   "outputs": [],
   "source": [
    "def vamp_solver(X, y, probc, meanc, varc, sigma2_init, max_iter, \n",
    "                tune_wvar = True, tune_gmm = True, \n",
    "                mean_fix = None, var_fix = None):\n",
    "    n, p      = X.shape\n",
    "    bshape    = (p, 1)\n",
    "    Xop       = vampyre.trans.MatrixLT(X, bshape)\n",
    "    # flag indicating if the estimator uses MAP estimation (else use MMSE).\n",
    "    map_est   = False\n",
    "    # Use Gaussian mixture estimator class with auto-tuning\n",
    "    # Enables EM tuning of the GMM parameters.\n",
    "    # In this case, probc, meanc and varc are used as initial estimates\n",
    "    # zvarmin - minimum variance in each cluster\n",
    "    est_in_em  = vampyre.estim.GMMEst(shape = bshape,\n",
    "                                      zvarmin = 1e-6, tune_gmm = tune_gmm,\n",
    "                                      probc = probc, meanc = meanc, varc = varc,\n",
    "                                      name = 'GMM input', mean_fix = mean_fix, var_fix = var_fix)\n",
    "\n",
    "    est_out_em = vampyre.estim.LinEst(Xop, y, wvar = sigma2_init,\n",
    "                                      map_est = map_est, tune_wvar = tune_wvar,\n",
    "                                      name = 'Linear+AWGN')\n",
    "    # Create the message handler\n",
    "    msg_hdl    = vampyre.estim.MsgHdlSimp(map_est = map_est, shape = bshape)\n",
    "    # Create the solver\n",
    "    solver     = vampyre.solver.Vamp(est_in_em, est_out_em, msg_hdl, hist_list=['zhat'],\n",
    "                                     nit = max_iter, prt_period = 0)\n",
    "    # Run the solver\n",
    "    solver.solve()\n",
    "    return solver\n",
    "\n",
    "\n",
    "# Some ad-hoc initialization of the Gaussian Mixture Model (GMM)\n",
    "def vamp_initialize(X, probc, meanc, varc, sigma2_init):\n",
    "    n, p         = X.shape\n",
    "    # How many components?\n",
    "    if not all(x is None for x in [probc, meanc, varc]):\n",
    "        clist = [len(x) for x in [probc, meanc, varc] if x is not None]\n",
    "        ncomp = clist[0]\n",
    "        assert all(x==clist[0] for x in clist), \"Different lengths for initial GMM prob / mean / var\"\n",
    "    else:\n",
    "        ncomp     = 2 \n",
    "    # Proportion of each component\n",
    "    if probc is None:\n",
    "        prob_hi   = np.minimum(n / p / 2, 0.95)\n",
    "        probc     = np.zeros(ncomp)\n",
    "        probc[1:] = np.repeat(prob_hi / (ncomp - 1), (ncomp - 1)) \n",
    "        probc[0]  = 1 - np.sum(probc[1:])\n",
    "    # Mean of each component\n",
    "    if meanc is None:\n",
    "        meanc     = np.zeros(ncomp)\n",
    "    # Variance of each component\n",
    "    if varc is None:\n",
    "        var_hi    = sigma2_init / (np.mean(np.abs(X)**2) * p * np.sum(probc[1:]))\n",
    "        var_hi    = max(var_hi, 0.1)\n",
    "        varc      = var_hi * np.arange(ncomp) / (ncomp - 1)\n",
    "        varc[0]   = var_hi * 1e-4 # the first component cannot be zero.\n",
    "    return probc, meanc, varc\n",
    "\n",
    "def fit_em_vamp(X, y, max_iter = 10000,\n",
    "                probc = None, meanc = None, varc = None,\n",
    "                mean_fix = None, var_fix = None):\n",
    "    \n",
    "    # Center y and add intercept\n",
    "    # It is redundant to do both.\n",
    "    ymean = np.mean(y)\n",
    "    Xc    = np.concatenate((np.ones((X.shape[0], 1)),  X), axis = 1)\n",
    "    yc    = (y - ymean).reshape(-1, 1)\n",
    "\n",
    "    # Initial sigma2 is set to the variance of y (mean centered).\n",
    "    sigma2_init = np.mean(yc**2)\n",
    "\n",
    "    # Initial probc, meanc, varc\n",
    "    probc, meanc, varc = vamp_initialize(Xc, probc, meanc, varc, sigma2_init)\n",
    "\n",
    "    # Get the estimation history\n",
    "    solver = vamp_solver(Xc, yc, probc, meanc, varc, sigma2_init, max_iter, \n",
    "                         mean_fix = mean_fix, var_fix = var_fix)\n",
    "    bhat_hist = solver.hist_dict['zhat']\n",
    "\n",
    "    for bhat in bhat_hist:\n",
    "        bhat[0] += ymean\n",
    "    bopt = bhat_hist[-1].reshape(-1)\n",
    "    return bhat_hist, bopt[0], bopt[1:]\n",
    "\n",
    "def get_rmse(X, y, bhist):\n",
    "    niter = len(bhist)\n",
    "    rmse  = np.zeros(niter)\n",
    "    n, p = X.shape\n",
    "    for it in range(niter):\n",
    "        bhati    = bhist[it]\n",
    "        ypred    = np.dot(Xtest, bhati[1:]) + bhati[0]\n",
    "        rmse[it] = np.sqrt(np.mean((ytest.reshape(n,1) - ypred)**2))\n",
    "    return rmse"
   ]
  },
  {
   "cell_type": "markdown",
   "id": "scheduled-friend",
   "metadata": {},
   "source": [
    "To estimate VAMP with ash prior, we initialize the components as in Mr.ASH"
   ]
  },
  {
   "cell_type": "code",
   "execution_count": 4,
   "id": "divided-eleven",
   "metadata": {},
   "outputs": [],
   "source": [
    "ash_ncomp    = 10\n",
    "ash_probc    = np.ones(ash_ncomp) / ash_ncomp\n",
    "ash_meanc    = np.zeros(ash_ncomp)\n",
    "ash_varc     = (4**(np.arange(ash_ncomp)/ash_ncomp) - 1)**2\n",
    "ash_varc[0]  = 1e-4 \n",
    "ash_mean_fix = np.ones(ash_ncomp)\n",
    "ash_var_fix  = np.ones(ash_ncomp)"
   ]
  },
  {
   "cell_type": "markdown",
   "id": "human-spencer",
   "metadata": {},
   "source": [
    "### Run the solvers"
   ]
  },
  {
   "cell_type": "code",
   "execution_count": 5,
   "id": "selected-spice",
   "metadata": {},
   "outputs": [
    {
     "name": "stdout",
     "output_type": "stream",
     "text": [
      "Final RMSE (EM-VAMP): 3.444\n"
     ]
    }
   ],
   "source": [
    "max_iter = 100\n",
    "emvamp_bhist, emvamp_mu, emvamp_beta = fit_em_vamp(X, y, max_iter = max_iter)\n",
    "emvamp_rmse = get_rmse(Xtest, ytest, emvamp_bhist)\n",
    "\n",
    "print (f\"Final RMSE (EM-VAMP): {emvamp_rmse[-1]:.3f}\")"
   ]
  },
  {
   "cell_type": "code",
   "execution_count": 6,
   "id": "found-gamma",
   "metadata": {},
   "outputs": [
    {
     "name": "stdout",
     "output_type": "stream",
     "text": [
      "Final RMSE (EM-VAMP-ASH): 3.453\n"
     ]
    }
   ],
   "source": [
    "\n",
    "ash_emvamp_bhist, ash_emvamp_mu, ash_emvamp_beta = fit_em_vamp(X, y, max_iter = max_iter,\n",
    "    probc = ash_probc, meanc = ash_meanc, varc  = ash_varc,\n",
    "    mean_fix = ash_mean_fix, var_fix  = ash_var_fix)\n",
    "\n",
    "ash_emvamp_rmse = get_rmse(Xtest, ytest, ash_emvamp_bhist)\n",
    "\n",
    "print (f\"Final RMSE (EM-VAMP-ASH): {ash_emvamp_rmse[-1]:.3f}\")"
   ]
  },
  {
   "cell_type": "markdown",
   "id": "animal-glance",
   "metadata": {},
   "source": [
    "### View Results\n",
    "\n",
    "We plot the two RMSE as a function of the iteration number"
   ]
  },
  {
   "cell_type": "code",
   "execution_count": 7,
   "id": "alpine-motor",
   "metadata": {},
   "outputs": [
    {
     "data": {
      "image/png": "[encoded data removed]",
      "text/plain": [
       "<Figure size 432x432 with 1 Axes>"
      ]
     },
     "metadata": {
      "needs_background": "light"
     },
     "output_type": "display_data"
    }
   ],
   "source": [
    "# My presentation style. Switch off if not using PyMir.\n",
    "mpl_stylesheet.banskt_presentation(dpi = 72)\n",
    "\n",
    "fig = plt.figure(figsize = (6, 6))\n",
    "ax1 = fig.add_subplot(111)\n",
    "\n",
    "xvals = np.log10(1 + np.arange(emvamp_rmse.shape[0]))\n",
    "\n",
    "ax1.plot(xvals, np.log10(ash_emvamp_rmse / se), 'o-', alpha = 0.5)\n",
    "ax1.plot(xvals, np.log10(emvamp_rmse / se), 's-', alpha = 0.5)\n",
    "        \n",
    "ax1.legend(['EM-VAMP (ash)', 'EM-VAMP'])\n",
    "ax1.set_ylabel(r\"Prediction Error (RMSE / $\\sigma$)\")\n",
    "ax1.set_xlabel(r\"Number of iterations\")\n",
    "\n",
    "ax1.tick_params(labelcolor = \"#333333\")\n",
    "# Magic ticks Switch off if not using PyMir.\n",
    "mpl_utils.set_yticks(ax1, kmin = 4, kmax = 6, scale = 'log10')\n",
    "mpl_utils.set_xticks(ax1, kmin = 4, kmax = 6, scale = 'log10', spacing = 'log10')\n",
    "\n",
    "plt.show()"
   ]
  },
  {
   "cell_type": "code",
   "execution_count": null,
   "id": "floating-popularity",
   "metadata": {},
   "outputs": [],
   "source": []
  }
 ],
 "metadata": {
  "kernelspec": {
   "display_name": "Python 3 (ipykernel)",
   "language": "python",
   "name": "python3"
  },
  "language_info": {
   "codemirror_mode": {
    "name": "ipython",
    "version": 3
   },
   "file_extension": ".py",
   "mimetype": "text/x-python",
   "name": "python",
   "nbconvert_exporter": "python",
   "pygments_lexer": "ipython3",
   "version": "3.9.6"
  }
 },
 "nbformat": 4,
 "nbformat_minor": 5
}

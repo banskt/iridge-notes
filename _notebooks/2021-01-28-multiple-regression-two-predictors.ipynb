{
 "cells": [
  {
   "cell_type": "markdown",
   "metadata": {},
   "source": [
    "# Multiple regression (two predictors) with product of normals\n",
    "\n",
    "- toc: true\n",
    "- badges: true\n",
    "- comments: true\n",
    "- categories: [jupyter]"
   ]
  },
  {
   "cell_type": "markdown",
   "metadata": {},
   "source": [
    "### About\n",
    "\n",
    "I am trying to understand the underfitting in the VEB implementation of multiple regression with product of normals. Here, I will numerically check the underlying distributions for a special case with only two predictors."
   ]
  },
  {
   "cell_type": "code",
   "execution_count": 2,
   "metadata": {},
   "outputs": [],
   "source": [
    "#collapse-show\n",
    "\n",
    "import numpy as np\n",
    "import pandas as pd\n",
    "from scipy import linalg as sc_linalg\n",
    "from scipy import special as sc_special\n",
    "import matplotlib.pyplot as plt\n",
    "\n",
    "import mpl_stylesheet\n",
    "import mpl_utils\n",
    "from matplotlib import cm\n",
    "from matplotlib import ticker as plticker\n",
    "from mpl_toolkits.axes_grid1 import make_axes_locatable\n",
    "mpl_stylesheet.banskt_presentation(fontfamily = 'latex-clearsans', fontsize = 18, colors = 'banskt', dpi = 72)"
   ]
  },
  {
   "cell_type": "code",
   "execution_count": null,
   "metadata": {},
   "outputs": [],
   "source": [
    "# collapse-hide\n",
    "\n",
    "def variance_explained(y, ypred):\n",
    "    ss_err = np.sum(np.square(y - ypred))\n",
    "    ss_tot = np.sum(np.square(y - np.mean(y)))\n",
    "    r2 = 1 - (ss_err / ss_tot)\n",
    "    return r2\n",
    "\n",
    "def prod_norm_prior_pdf(z, s1, s2):\n",
    "    x = np.abs(z) / s1 / s2\n",
    "    prob = sc_special.kn(0, x) / (np.pi * s1 * s2)\n",
    "    return prob\n",
    "\n",
    "def normal_logdensity_onesample(z, m, s2):\n",
    "    logdensity = - 0.5 * np.log(2 * np.pi * s2) \\\n",
    "                 - 0.5 * (z - m) * (z - m) / s2\n",
    "    return logdensity\n",
    "\n",
    "def prod_norm_prior2_pdf(z, s1, s2):\n",
    "    w = 3.5\n",
    "    b = z / w\n",
    "    p1 = np.exp(normal_logdensity_onesample(b, 0, s1 * s1))\n",
    "    p2 = np.exp(normal_logdensity_onesample(w, 0, s2 * s2))\n",
    "    return p1 * p2\n",
    "\n",
    "def normal_logdensity(y, mean, sigma2):\n",
    "    n = y.shape[0]\n",
    "    logdensity = - 0.5 * n * np.log(2 * np.pi * sigma2) \\\n",
    "                 - 0.5 * np.sum(np.square(y - mean)) / sigma2\n",
    "    return logdensity\n",
    "\n",
    "def data_log_likelihood(X, y, b, sigma):\n",
    "    ll = np.zeros_like(b)\n",
    "    for i, _b in enumerate(b):\n",
    "        ll[i] = normal_logdensity(y, X * _b, sigma * sigma)\n",
    "    return ll"
   ]
  }
 ],
 "metadata": {
  "kernelspec": {
   "display_name": "Python 3",
   "language": "python",
   "name": "python3"
  },
  "language_info": {
   "codemirror_mode": {
    "name": "ipython",
    "version": 3
   },
   "file_extension": ".py",
   "mimetype": "text/x-python",
   "name": "python",
   "nbconvert_exporter": "python",
   "pygments_lexer": "ipython3",
   "version": "3.9.0"
  }
 },
 "nbformat": 4,
 "nbformat_minor": 4
}
